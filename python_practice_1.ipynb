{
  "cells": [
    {
      "cell_type": "markdown",
      "metadata": {
        "id": "p9wwt0LZzNvn"
      },
      "source": [
        "# I. Змінні та памʼять."
      ]
    },
    {
      "cell_type": "markdown",
      "metadata": {
        "id": "HTJrrm95xSV9"
      },
      "source": [
        "1. Створити змінні, що посилаються на два цілих числа, що однакові за значенням, де значення належить проміжку від -5 до 256. Чи будуть ці змінні рівні тільки за значенням або ж ще будуть посилатися на один і той самий обʼєкт в памʼяті? Наведіть код та дайте текстову відповідь нижче."
      ]
    },
    {
      "cell_type": "markdown",
      "metadata": {},
      "source": [
        "ВІдповідь: \n",
        "\n",
        "дві змінні, які посилаються на одне і те ж ціле число в цьому діапазоні,\n",
        "будуть не тільки рівні за значенням,\n",
        "але й будуть посилатися на один і той самий об'єкт в пам'яті, бо вони зберігаються в однаковому місці в пам'яті при їх створенні"
      ]
    },
    {
      "cell_type": "code",
      "execution_count": 1,
      "metadata": {
        "id": "FHSFpb1bwTFG"
      },
      "outputs": [
        {
          "name": "stdout",
          "output_type": "stream",
          "text": [
            "Рівність за значенням: True\n",
            "Посилання на один і той самий об'єкт: True\n"
          ]
        }
      ],
      "source": [
        "x = 100\n",
        "y = 100\n",
        "print(\"Рівність за значенням:\", x == y)\n",
        "print(\"Посилання на один і той самий об'єкт:\", x is y)"
      ]
    },
    {
      "cell_type": "markdown",
      "metadata": {
        "id": "N-soIzlV0Awv"
      },
      "source": [
        "2. Створити змінні, що посилаються на одне і те саме булеве значення. Чи будуть ці змінні рівні тільки за значенням або ж ще будуть посилатися на один і той самий обʼєкт в памʼяті? Наведіть код та дайте текстову відповідь нижче."
      ]
    },
    {
      "cell_type": "code",
      "execution_count": 3,
      "metadata": {
        "id": "qK1-VBih0Lgz"
      },
      "outputs": [
        {
          "name": "stdout",
          "output_type": "stream",
          "text": [
            "True\n",
            "True\n"
          ]
        }
      ],
      "source": [
        "lotus = True\n",
        "speed = True\n",
        "\n",
        "print(lotus == speed) \n",
        "print(lotus is speed) \n"
      ]
    },
    {
      "cell_type": "markdown",
      "metadata": {},
      "source": [
        "У цьому коді, a == b поверне True, оскільки обидві змінні мають однакове булеве значення. Також, a is b також поверне True, що показує, що a і b дійсно посилаються на один і той самий об'єкт в пам'яті."
      ]
    },
    {
      "cell_type": "markdown",
      "metadata": {
        "id": "ISORzt6M3vAt"
      },
      "source": [
        "3. За допомогою якої функції можна перевірити належність змінної до вказаного типу даних (напр. чи змінна посилається на значення булевого типу)?"
      ]
    },
    {
      "cell_type": "code",
      "execution_count": 5,
      "metadata": {
        "id": "N7HHGm4H4CW7"
      },
      "outputs": [
        {
          "name": "stdout",
          "output_type": "stream",
          "text": [
            "False\n"
          ]
        }
      ],
      "source": [
        "variable = 0\n",
        "is_boolean = isinstance(variable, bool)\n",
        "print(is_boolean) \n"
      ]
    },
    {
      "cell_type": "markdown",
      "metadata": {
        "id": "tRxugKAxwYLw"
      },
      "source": [
        "# II. Цілі числа та числа з рухомою комою"
      ]
    },
    {
      "cell_type": "markdown",
      "metadata": {
        "id": "NLHkgd5Gybc8"
      },
      "source": [
        "4. Створити дві змінні, що посилаються на будь-які два цілих числа та продемонструвати такі арифметичні операції: додавання, віднімання, ділення, множення, ділення без залишку, ділення по модулю, приведення до ступеню. Всі результати операцій вивести на екран."
      ]
    },
    {
      "cell_type": "code",
      "execution_count": 7,
      "metadata": {
        "id": "Ck6JaN4Qysoc"
      },
      "outputs": [
        {
          "name": "stdout",
          "output_type": "stream",
          "text": [
            "19 11 11 3.75 60 3 3 50625\n"
          ]
        }
      ],
      "source": [
        "# Створення змінних\n",
        "a = 15\n",
        "b = 4\n",
        "\n",
        "addition = a + b\n",
        "subtraction = a - b\n",
        "division = a / b\n",
        "multiplication = a * b\n",
        "integer_division = a // b\n",
        "modulus = a % b\n",
        "exponentiation = a ** b\n",
        "\n",
        "print(addition, subtraction, subtraction, division, multiplication, integer_division, modulus, exponentiation)\n"
      ]
    },
    {
      "cell_type": "markdown",
      "metadata": {
        "id": "tOT1crlty3cE"
      },
      "source": [
        "5. Створити дві змінні, що посилаються на будь-які два числа з рухомою комою та продемонструвати такі арифметичні операції: додавання, віднімання, ділення, множення, ділення без залишку, ділення по модулю, приведення до ступеню. Всі результати операцій вивести на екран."
      ]
    },
    {
      "cell_type": "code",
      "execution_count": 8,
      "metadata": {
        "id": "m88_XOI9y-HI"
      },
      "outputs": [
        {
          "name": "stdout",
          "output_type": "stream",
          "text": [
            "7.8 3.2 3.2 2.3913043478260874 12.649999999999999 2.0 0.9000000000000004 50.44686540422945\n"
          ]
        }
      ],
      "source": [
        "# Створення змінних для дійсних чисел\n",
        "a = 5.5\n",
        "b = 2.3\n",
        "\n",
        "# Арифметичні операції\n",
        "addition = a + b\n",
        "subtraction = a - b\n",
        "division = a / b\n",
        "multiplication = a * b\n",
        "integer_division = a // b\n",
        "modulus = a % b\n",
        "exponentiation = a ** b\n",
        "\n",
        "print(addition, subtraction, subtraction, division, multiplication, integer_division, modulus, exponentiation)\n"
      ]
    },
    {
      "cell_type": "markdown",
      "metadata": {
        "id": "74jIsang0Yfe"
      },
      "source": [
        "6. Спробуйте проробити всі ті самі арифметичні операції над двома змінними, що посилаються на різні булеві значення. Прокоментуйте, чому, на Вашу думку, Ви отримали саме такі результати."
      ]
    },
    {
      "cell_type": "code",
      "execution_count": 9,
      "metadata": {
        "id": "Py3JN4gU0eTq"
      },
      "outputs": [
        {
          "name": "stdout",
          "output_type": "stream",
          "text": [
            "1 1 Ділення на нуль 0 Ділення на нуль Ділення на нуль 1\n"
          ]
        }
      ],
      "source": [
        "\n",
        "a = True  #  1\n",
        "b = False  # 0\n",
        "\n",
        "addition = a + b\n",
        "subtraction = a - b\n",
        "division = a / b if b != 0 else \"Ділення на нуль\"\n",
        "multiplication = a * b\n",
        "integer_division = a // b if b != 0 else \"Ділення на нуль\"\n",
        "modulus = a % b if b != 0 else \"Ділення на нуль\"\n",
        "exponentiation = a ** b\n",
        "\n",
        "# Результати\n",
        "print(addition, subtraction, division, multiplication, integer_division, modulus, exponentiation)\n",
        "\n"
      ]
    },
    {
      "cell_type": "markdown",
      "metadata": {
        "id": "-pY4SCvo0wMG"
      },
      "source": [
        "Ці результати випливають із того, як Python обробляє булеві значення у числовому контексті. True і False вважаються рівними 1 та 0 відповідно. Операції, що включають ділення на False (0), призводять до визначення \"ділення на нуль\", оскільки у математиці так склалося що ділити на нуль не можна"
      ]
    },
    {
      "cell_type": "markdown",
      "metadata": {
        "id": "1kBClKgPzZnC"
      },
      "source": [
        "7. Використовуючи змінні з вправи 3, продемонструйте механізм явного перетворення типів, де числа з рухомою комою перетворюються на цілі числа."
      ]
    },
    {
      "cell_type": "code",
      "execution_count": 11,
      "metadata": {
        "id": "akcVeUWYzlpb"
      },
      "outputs": [
        {
          "data": {
            "text/plain": [
              "(5, 2)"
            ]
          },
          "execution_count": 11,
          "metadata": {},
          "output_type": "execute_result"
        }
      ],
      "source": [
        "# Створення змінних для дійсних чисел (з вправи 5)\n",
        "float_a = 5.5\n",
        "float_b = 2.3\n",
        "\n",
        "# Явне перетворення типів на цілі числа\n",
        "int_a = int(float_a)  \n",
        "int_b = int(float_b)  \n",
        "\n",
        "int_a, int_b\n",
        "\n"
      ]
    },
    {
      "cell_type": "markdown",
      "metadata": {
        "id": "GYVqN9uP1D4n"
      },
      "source": [
        "# III. Робота зі списками."
      ]
    },
    {
      "cell_type": "markdown",
      "metadata": {
        "id": "7-DeDunw2sO-"
      },
      "source": [
        "8. Створити список двома різними за синтаксисом способами. За допомогою вбудованої функції обчисліть довжину одного з них."
      ]
    },
    {
      "cell_type": "code",
      "execution_count": 12,
      "metadata": {
        "id": "jY07arjK21hH"
      },
      "outputs": [
        {
          "data": {
            "text/plain": [
              "(5, [1, 2, 3, 4, 5], ['h', 'e', 'l', 'l', 'o'])"
            ]
          },
          "execution_count": 12,
          "metadata": {},
          "output_type": "execute_result"
        }
      ],
      "source": [
        "\n",
        "list1 = [1, 2, 3, 4, 5]\n",
        "list2 = list(\"hello\")\n",
        "\n",
        "length_of_list1 = len(list1)\n",
        "length_of_list1, list1, list2\n",
        "\n"
      ]
    },
    {
      "cell_type": "markdown",
      "metadata": {
        "id": "8vmGUTjL22gI"
      },
      "source": [
        "9. Створіть два списка та за допомогою спеціального методу додайте другий з них в якості останнього елемента першого."
      ]
    },
    {
      "cell_type": "code",
      "execution_count": 13,
      "metadata": {
        "id": "DSP6lO_m4cdV"
      },
      "outputs": [
        {
          "data": {
            "text/plain": [
              "[1, 2, 3, [4, 5, 6]]"
            ]
          },
          "execution_count": 13,
          "metadata": {},
          "output_type": "execute_result"
        }
      ],
      "source": [
        "list1 = [1, 2, 3]\n",
        "list2 = [4, 5, 6]\n",
        "\n",
        "\n",
        "list1.append(list2)\n",
        "\n",
        "list1\n",
        "\n"
      ]
    },
    {
      "cell_type": "markdown",
      "metadata": {
        "id": "6ke6ng2j4dtq"
      },
      "source": [
        "10. Створіть два списка та за допомогою спеціального методу \"розширте\" перший (додайте всі елементи другого в кінець першого списку). Напишіть, чим відрізняються методи в завданні 9 та 10."
      ]
    },
    {
      "cell_type": "code",
      "execution_count": 14,
      "metadata": {
        "id": "DVJVvu494q8d"
      },
      "outputs": [
        {
          "data": {
            "text/plain": [
              "[1, 2, 3, 4, 5, 6]"
            ]
          },
          "execution_count": 14,
          "metadata": {},
          "output_type": "execute_result"
        }
      ],
      "source": [
        "list1 = [1, 2, 3]\n",
        "list2 = [4, 5, 6]\n",
        "\n",
        "list1.extend(list2)\n",
        "\n",
        "list1\n",
        "\n"
      ]
    },
    {
      "cell_type": "markdown",
      "metadata": {
        "id": "LvEs8TGo6CaT"
      },
      "source": [
        "Щодо відмінностей між методами append() і extend(), що були використані у завданнях 9 та 10:\n",
        "\n",
        "append(): Додає свій аргумент як один елемент у кінець списку. Якщо аргументом є список, він додається як один вкладений список.\n",
        "extend(): Додає кожен елемент з переданого ітерованого об'єкту (наприклад, списку) до списку-отримувача окремо. Це \"розширює\" список-отримувач, включаючи елементи другого списку один за одним, а не як окремий вкладений список."
      ]
    },
    {
      "cell_type": "markdown",
      "metadata": {
        "id": "iu_NyJeR4vOu"
      },
      "source": [
        "11. Створіть список та відсортуйте його так, щоб:\n",
        "а) його id залишився незмінним після сортування.\n",
        "б) результат сортування був збережений у нову змінну. Підказка: для одного пункту використовуйте вбудовану функцію стортування, а в іншому - спеціальний метод для роботи зі списками."
      ]
    },
    {
      "cell_type": "code",
      "execution_count": 17,
      "metadata": {
        "id": "LWdiIkDj5Nxo"
      },
      "outputs": [
        {
          "data": {
            "text/plain": [
              "(1514342640576, 1514342587904, [1, 1, 2, 3, 4, 5, 9])"
            ]
          },
          "execution_count": 17,
          "metadata": {},
          "output_type": "execute_result"
        }
      ],
      "source": [
        "original_list = [3, 1, 4, 1, 5, 9, 2]\n",
        "\n",
        "sorted_in_place_list = original_list.copy() \n",
        "sorted_in_place_list.sort()\n",
        "id_original = id(original_list)\n",
        "id_sorted_in_place = id(sorted_in_place_list)\n",
        "id_original, id_sorted_in_place, sorted_in_place_list"
      ]
    },
    {
      "cell_type": "code",
      "execution_count": 19,
      "metadata": {
        "id": "JHl9vlFa5bHt"
      },
      "outputs": [
        {
          "data": {
            "text/plain": [
              "[1, 1, 2, 3, 4, 5, 9]"
            ]
          },
          "execution_count": 19,
          "metadata": {},
          "output_type": "execute_result"
        }
      ],
      "source": [
        "sorted_new_list = sorted(original_list)\n",
        "sorted_new_list"
      ]
    },
    {
      "cell_type": "markdown",
      "metadata": {
        "id": "1l80guua5bia"
      },
      "source": [
        "12. Створіть список з елементами різного типу, де деякі значення елементів повторюються. За допомогою спеціального методу порахуйте кількість значень одного з елементів на Ваш вибір. Результат виведіть на екран."
      ]
    },
    {
      "cell_type": "code",
      "execution_count": 20,
      "metadata": {
        "id": "tWFdczmv5z5Q"
      },
      "outputs": [
        {
          "data": {
            "text/plain": [
              "2"
            ]
          },
          "execution_count": 20,
          "metadata": {},
          "output_type": "execute_result"
        }
      ],
      "source": [
        "\n",
        "mixed_list = [1, \"apple\", 3.14, \"apple\", True, 1, 42, \"banana\", 3.14]\n",
        "\n",
        "element_to_count = \"apple\"\n",
        "count_of_element = mixed_list.count(element_to_count)\n",
        "\n",
        "count_of_element\n",
        "\n"
      ]
    },
    {
      "cell_type": "markdown",
      "metadata": {},
      "source": [
        "У створеному списку mixed_list, я порахував кількість входжень елемента \"apple\". Кількість входжень \"apple\" у списку становить 2"
      ]
    },
    {
      "cell_type": "markdown",
      "metadata": {
        "id": "pCjR1dJb1Qbi"
      },
      "source": [
        "# IV. Робота з кортежами."
      ]
    },
    {
      "cell_type": "markdown",
      "metadata": {
        "id": "te3MAUYq28TV"
      },
      "source": [
        "13. Створити список з один типом елементів та на основі цього списку створити кортеж."
      ]
    },
    {
      "cell_type": "code",
      "execution_count": 22,
      "metadata": {
        "id": "uq3O114R2_H1"
      },
      "outputs": [
        {
          "data": {
            "text/plain": [
              "(1, 2, 3, 4, 5)"
            ]
          },
          "execution_count": 22,
          "metadata": {},
          "output_type": "execute_result"
        }
      ],
      "source": [
        "list_of_numbers = [1, 2, 3, 4, 5]\n",
        "\n",
        "tuple_of_numbers = tuple(list_of_numbers)\n",
        "\n",
        "tuple_of_numbers\n",
        "\n"
      ]
    },
    {
      "cell_type": "markdown",
      "metadata": {
        "id": "fAZCxAX06R_k"
      },
      "source": [
        "14. Створити кортеж з один елементом."
      ]
    },
    {
      "cell_type": "code",
      "execution_count": 24,
      "metadata": {
        "id": "-QWjudqk6kHd"
      },
      "outputs": [
        {
          "data": {
            "text/plain": [
              "5"
            ]
          },
          "execution_count": 24,
          "metadata": {},
          "output_type": "execute_result"
        }
      ],
      "source": [
        "\n",
        "single_element_tuple = (5)\n",
        "\n",
        "single_element_tuple\n",
        "\n"
      ]
    },
    {
      "cell_type": "markdown",
      "metadata": {
        "id": "VfTSJwQF7djZ"
      },
      "source": [
        "15. Створити кортеж. Вивести на екран всі доступні його атрибути та методи."
      ]
    },
    {
      "cell_type": "code",
      "execution_count": 25,
      "metadata": {
        "id": "x9elcFfr774r"
      },
      "outputs": [
        {
          "data": {
            "text/plain": [
              "['__add__',\n",
              " '__class__',\n",
              " '__class_getitem__',\n",
              " '__contains__',\n",
              " '__delattr__',\n",
              " '__dir__',\n",
              " '__doc__',\n",
              " '__eq__',\n",
              " '__format__',\n",
              " '__ge__',\n",
              " '__getattribute__',\n",
              " '__getitem__',\n",
              " '__getnewargs__',\n",
              " '__getstate__',\n",
              " '__gt__',\n",
              " '__hash__',\n",
              " '__init__',\n",
              " '__init_subclass__',\n",
              " '__iter__',\n",
              " '__le__',\n",
              " '__len__',\n",
              " '__lt__',\n",
              " '__mul__',\n",
              " '__ne__',\n",
              " '__new__',\n",
              " '__reduce__',\n",
              " '__reduce_ex__',\n",
              " '__repr__',\n",
              " '__rmul__',\n",
              " '__setattr__',\n",
              " '__sizeof__',\n",
              " '__str__',\n",
              " '__subclasshook__',\n",
              " 'count',\n",
              " 'index']"
            ]
          },
          "execution_count": 25,
          "metadata": {},
          "output_type": "execute_result"
        }
      ],
      "source": [
        "\n",
        "a_tuple = (1, 2, 3)\n",
        "\n",
        "\n",
        "tuple_attributes_methods = dir(a_tuple)\n",
        "\n",
        "tuple_attributes_methods\n",
        "\n"
      ]
    },
    {
      "cell_type": "markdown",
      "metadata": {
        "id": "8LCtYcmI6w1M"
      },
      "source": [
        "16. Порівняйте список та кортеж. Назвіть схожості та відмінності, випадки використання."
      ]
    },
    {
      "cell_type": "markdown",
      "metadata": {
        "id": "t9MwoWor7UVB"
      },
      "source": [
        "   Схожості:\n",
        "      Підтримка Різноманітних Типів: Обидва можуть містити елементи різних типів.\n",
        "      Індексація: В обох використовується індексація для доступу до елементів.\n",
        "      Ітеровані: Обидва можуть бути використані у циклах for.\n",
        "      Вбудовані Функції: Обидва підтримують вбудовані функції, такі як len(), max(), min(), sum() (якщо вміст дозволяє).\n",
        "   \n",
        "   \n",
        "   Відмінності:\n",
        "      Змінність:\n",
        "Списки є змінними (mutable), що означає, що їхній вміст можна змінювати після створення (додавання, видалення, або зміна елементів).\n",
        "Кортежі є незмінними (immutable), тобто після створення їхній вміст не можна змінити.\n",
        "      Методи:\n",
        "Списки мають більше методів для маніпуляції з даними (наприклад, append(), remove(), pop(), extend() тощо).\n",
        "Кортежі мають обмежений набір методів (зокрема count() та index()).\n",
        "      Продуктивність:\n",
        "Кортежі зазвичай використовують менше пам'яті та працюють швидше за списки, що є важливим у великих даних або високопродуктивних додатках.\n",
        "   \n",
        "   \n",
        "   Використання:\n",
        "Списки часто використовуються для даних, які можуть змінюватись, наприклад, динамічні набори елементів.\n",
        "Кортежі використовуються для даних, які не мають змінюватися, що робить їх ідеальними для представлення фіксованих колекцій, наприклад, координати точки.\n",
        "Випадки Використання:\n",
        "      Списки:\n",
        "Для зберігання колекції елементів, які потребують частих змін (наприклад, елементи кошика покупця).\n",
        "У ситуаціях, де потрібно додавати, видаляти або змінювати елементи.\n",
        "      Кортежі:\n",
        "Для зберігання колекції елементів, яка не має змінюватися (наприклад, дані конфігурації).\n",
        "У якості ключів у словниках (тому що вони незмінні)."
      ]
    },
    {
      "cell_type": "markdown",
      "metadata": {
        "id": "QTP622J81iHk"
      },
      "source": [
        "# V. Індексування та слайсинг."
      ]
    },
    {
      "cell_type": "markdown",
      "metadata": {
        "id": "4dmeIU-N9gHy"
      },
      "source": [
        "17. Створіть список з 6ти елементів. Отримайте третій елемент за допомогою двох різних індексів."
      ]
    },
    {
      "cell_type": "code",
      "execution_count": 26,
      "metadata": {
        "id": "47LTFhfH9pRe"
      },
      "outputs": [
        {
          "data": {
            "text/plain": [
              "(30, 30)"
            ]
          },
          "execution_count": 26,
          "metadata": {},
          "output_type": "execute_result"
        }
      ],
      "source": [
        "example_list = [10, 20, 30, 40, 50, 60]\n",
        "\n",
        "third_element_positive = example_list[2]\n",
        "\n",
        "third_element_negative = example_list[-4]\n",
        "\n",
        "third_element_positive, third_element_negative\n",
        "\n"
      ]
    },
    {
      "cell_type": "markdown",
      "metadata": {
        "id": "JC3BkD-67_--"
      },
      "source": [
        "18. Створіть список, де елементами цього списку також є списки. Отримай перший елемент з останнього рядка та виведи значення на екран."
      ]
    },
    {
      "cell_type": "code",
      "execution_count": 28,
      "metadata": {
        "id": "ctR2jdq68cB0"
      },
      "outputs": [
        {
          "data": {
            "text/plain": [
              "7"
            ]
          },
          "execution_count": 28,
          "metadata": {},
          "output_type": "execute_result"
        }
      ],
      "source": [
        "nested_list = [[1, 2, 3], [4, 5, 6], [7, 8, 9]]\n",
        "\n",
        "first_element_of_last_row = nested_list[-1][0]\n",
        "\n",
        "first_element_of_last_row\n",
        "\n"
      ]
    },
    {
      "cell_type": "markdown",
      "metadata": {
        "id": "A-hPrvOS8cjx"
      },
      "source": [
        "19. Створіть кортеж, що містить 8  елементів цілочисленного типу. Виведіть на екран три найменших значення."
      ]
    },
    {
      "cell_type": "code",
      "execution_count": 29,
      "metadata": {
        "id": "GPxJKNUm8xHU"
      },
      "outputs": [
        {
          "data": {
            "text/plain": [
              "[2, 3, 4]"
            ]
          },
          "execution_count": 29,
          "metadata": {},
          "output_type": "execute_result"
        }
      ],
      "source": [
        "integer_tuple = (15, 3, 7, 2, 9, 10, 4, 5)\n",
        "\n",
        "three_smallest_values = sorted(integer_tuple)[:3]\n",
        "\n",
        "three_smallest_values\n",
        "\n"
      ]
    },
    {
      "cell_type": "markdown",
      "metadata": {
        "id": "JA47PKTv8zFK"
      },
      "source": [
        "20. Створіть список з десяти елементів різного типу. Отримайте всі елементи, окрім двох перших та двох останніх та збережіть їх в новій змінній."
      ]
    },
    {
      "cell_type": "code",
      "execution_count": 30,
      "metadata": {
        "id": "g-GAQS_kAlmr"
      },
      "outputs": [
        {
          "data": {
            "text/plain": [
              "[3.0, True, [5, 6], (7, 8), {9: 'nine'}, {10}]"
            ]
          },
          "execution_count": 30,
          "metadata": {},
          "output_type": "execute_result"
        }
      ],
      "source": [
        "mixed_list = [1, \"two\", 3.0, True, [5, 6], (7, 8), {9: \"nine\"}, {10}, [\"eleven\"], \"12\"]\n",
        "\n",
        "middle_elements = mixed_list[2:-2]\n",
        "\n",
        "middle_elements\n",
        "\n"
      ]
    },
    {
      "cell_type": "markdown",
      "metadata": {
        "id": "m0xrwFijAmDD"
      },
      "source": [
        "21. Створіть кортеж з 11ти елементів чисел з рухомою комою та отримайте кожен парний за індексом елемент в зворотньому порядку. Наприклад, маючи (1.2, 2.3, 3.3, 4.3, 5.3, 6.3, 7.3, 8.3, 9.3, 0.3), отримати (0.3, 8.3, 6.3, 4.3, 2.3). Результат збережіть в нову змінну та виведіть на екран."
      ]
    },
    {
      "cell_type": "code",
      "execution_count": 31,
      "metadata": {
        "id": "BQwYLEXdBVBo"
      },
      "outputs": [
        {
          "data": {
            "text/plain": [
              "(10.0, 8.8, 6.6, 4.4, 2.2)"
            ]
          },
          "execution_count": 31,
          "metadata": {},
          "output_type": "execute_result"
        }
      ],
      "source": [
        "float_tuple = (1.1, 2.2, 3.3, 4.4, 5.5, 6.6, 7.7, 8.8, 9.9, 10.0, 11.1)\n",
        "\n",
        "even_index_elements_reverse = float_tuple[-2::-2]\n",
        "\n",
        "even_index_elements_reverse\n",
        "\n"
      ]
    },
    {
      "cell_type": "markdown",
      "metadata": {
        "id": "F0ArvieRBZsG"
      },
      "source": [
        "# Вітаю! Ви велика(ий) молодець, що впоралась(вся). Похваліть себе та побалуйте чимось приємним. Я Вами пишаюся."
      ]
    }
  ],
  "metadata": {
    "colab": {
      "provenance": []
    },
    "kernelspec": {
      "display_name": "Python 3",
      "name": "python3"
    },
    "language_info": {
      "codemirror_mode": {
        "name": "ipython",
        "version": 3
      },
      "file_extension": ".py",
      "mimetype": "text/x-python",
      "name": "python",
      "nbconvert_exporter": "python",
      "pygments_lexer": "ipython3",
      "version": "3.12.0"
    }
  },
  "nbformat": 4,
  "nbformat_minor": 0
}
