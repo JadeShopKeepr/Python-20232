{
  "cells": [
    {
      "cell_type": "markdown",
      "metadata": {
        "id": "awfU0tMnOlHH"
      },
      "source": [
        "# I. OOP"
      ]
    },
    {
      "cell_type": "markdown",
      "metadata": {
        "id": "T6r88C4sOwbI"
      },
      "source": [
        "1. (7б). Створіть клас Animal, додайте docstring, три атрибути, один з яких має значення за замовчуванням та два методи на свій розсуд."
      ]
    },
    {
      "cell_type": "code",
      "execution_count": 1,
      "metadata": {
        "id": "fWXuCGV8Oqrn"
      },
      "outputs": [],
      "source": [
        "class Animal:\n",
        "    def __init__(self, name, species, age=0):\n",
        "        self.name = name\n",
        "        self.species = species\n",
        "        self.age = age\n",
        "\n",
        "    def make_sound(self):\n",
        "        print(f\"{self.name} робить звук.\")\n",
        "\n",
        "    def celebrate_birthday(self):\n",
        "        self.age += 1\n",
        "        print(f\"З днем народження, {self.name}! Тепер тобі {self.age} років.\")\n"
      ]
    },
    {
      "cell_type": "markdown",
      "metadata": {
        "id": "CTu5Dt0_UKul"
      },
      "source": [
        "1.1. (5б). Створіть два обʼєкти цього класу. На одному обʼєкті отримайте значення його атрибуту, а на іншому викличте один з його методів."
      ]
    },
    {
      "cell_type": "code",
      "execution_count": 2,
      "metadata": {
        "id": "nLQqAIlKUQRP"
      },
      "outputs": [
        {
          "name": "stdout",
          "output_type": "stream",
          "text": [
            "З днем народження, Мія! Тепер тобі 1 років.\n"
          ]
        },
        {
          "data": {
            "text/plain": [
              "'собака'"
            ]
          },
          "execution_count": 2,
          "metadata": {},
          "output_type": "execute_result"
        }
      ],
      "source": [
        "# Створення класу Animal\n",
        "class Animal:\n",
        "    def __init__(self, name, species, age=0):\n",
        "        self.name = name\n",
        "        self.species = species\n",
        "        self.age = age\n",
        "\n",
        "    def make_sound(self):\n",
        "        print(f\"{self.name} робить звук.\")\n",
        "\n",
        "    def celebrate_birthday(self):\n",
        "        self.age += 1\n",
        "        print(f\"З днем народження, {self.name}! Тепер тобі {self.age} років.\")\n",
        "\n",
        "animal1 = Animal(\"Чарлі\", \"собака\", 3)\n",
        "animal2 = Animal(\"Мія\", \"кішка\")\n",
        "\n",
        "animal1_species = animal1.species\n",
        "\n",
        "animal2.celebrate_birthday()\n",
        "\n",
        "animal1_species"
      ]
    },
    {
      "cell_type": "markdown",
      "metadata": {
        "id": "3KKpQYcWRNgj"
      },
      "source": [
        "2. (9б). Створіть клас, де атрибути мають різні рівні доступу. Спробуйте отримати їхні значення та опишіть результати."
      ]
    },
    {
      "cell_type": "code",
      "execution_count": 5,
      "metadata": {
        "id": "PlMQmzciRM_D"
      },
      "outputs": [
        {
          "data": {
            "text/plain": [
              "('Це публічний атрибут',\n",
              " 'Це захищений атрибут',\n",
              " \"'ExampleClass' object has no attribute '__private_attribute'\")"
            ]
          },
          "execution_count": 5,
          "metadata": {},
          "output_type": "execute_result"
        }
      ],
      "source": [
        "class ExampleClass:\n",
        "    def __init__(self):\n",
        "        self.public_attribute = \"Це публічний атрибут\"\n",
        "        self._protected_attribute = \"Це захищений атрибут\"\n",
        "        self.__private_attribute = \"Це приватний атрибут\"\n",
        "\n",
        "# Створення об'єкта класу ExampleClass\n",
        "example = ExampleClass()\n",
        "\n",
        "# Спроба доступу до атрибутів\n",
        "public_value = example.public_attribute\n",
        "protected_value = example._protected_attribute\n",
        "\n",
        "try:\n",
        "    private_value = example.__private_attribute\n",
        "except AttributeError as e:\n",
        "    private_value_error = str(e)\n",
        "\n",
        "public_value, protected_value, private_value_error"
      ]
    },
    {
      "cell_type": "markdown",
      "metadata": {
        "id": "iaoOLp4RRZyc"
      },
      "source": [
        "3. (8б). Як ви розумієте термін self? Для чого використовується метод __init __?"
      ]
    },
    {
      "cell_type": "markdown",
      "metadata": {
        "id": "-yuvBRjFRlz5"
      },
      "source": [
        "self — це спосіб сказати \"цей конкретний об'єкт\" всередині класу, а __init__ — це спосіб встановити початковий стан цього об'єкта при його створенні."
      ]
    },
    {
      "cell_type": "markdown",
      "metadata": {
        "id": "nVectYeATZAi"
      },
      "source": [
        "4. (8б). Створіть клас Фігура без атрибутів, з методом get_area для отримання площі фігури, що повертає 0 та __add __, який приймає self та other в якості аргументів, а повертає суму площин фігур self та other."
      ]
    },
    {
      "cell_type": "code",
      "execution_count": 6,
      "metadata": {
        "id": "EYvcpzHbRZLz"
      },
      "outputs": [
        {
          "data": {
            "text/plain": [
              "0"
            ]
          },
          "execution_count": 6,
          "metadata": {},
          "output_type": "execute_result"
        }
      ],
      "source": [
        "class Figure:\n",
        "    def get_area(self):\n",
        "        return 0\n",
        "\n",
        "    def __add__(self, other):\n",
        "        return self.get_area() + other.get_area()\n",
        "\n",
        "# Створення двох об'єктів класу Figure\n",
        "figure1 = Figure()\n",
        "figure2 = Figure()\n",
        "\n",
        "total_area = figure1 + figure2\n",
        "total_area"
      ]
    },
    {
      "cell_type": "markdown",
      "metadata": {
        "id": "PheOkqlCg9SD"
      },
      "source": [
        "5. (11б). Створіть 2 дочірніх класи від Фігури: Трикутник та Коло, які мають атрибути, необхідні для розрахунку площин. Визначте метод get_area в кожному з них так, щоби вони розраховували площу в залежності від формули для кожного типу фігури. Створіть обʼєкт класу Трикутник та обʼєкт класу Коло. Виконайте операцію суми за допомогою оператора + між ними."
      ]
    },
    {
      "cell_type": "code",
      "execution_count": 7,
      "metadata": {
        "id": "7Jo8-rqlhNSw"
      },
      "outputs": [
        {
          "data": {
            "text/plain": [
              "178.93804002589985"
            ]
          },
          "execution_count": 7,
          "metadata": {},
          "output_type": "execute_result"
        }
      ],
      "source": [
        "import math\n",
        "\n",
        "class Triangle(Figure):\n",
        "    def __init__(self, base, height):\n",
        "        self.base = base\n",
        "        self.height = height\n",
        "\n",
        "    def get_area(self):\n",
        "        return 0.5 * self.base * self.height\n",
        "\n",
        "class Circle(Figure):\n",
        "    def __init__(self, radius):\n",
        "        self.radius = radius\n",
        "\n",
        "    def get_area(self):\n",
        "        return math.pi * self.radius ** 2\n",
        "\n",
        "triangle = Triangle(base=10, height=5) \n",
        "circle = Circle(radius=7) \n",
        "\n",
        "# Виконання операції суми\n",
        "total_area = triangle + circle\n",
        "total_area"
      ]
    },
    {
      "cell_type": "markdown",
      "metadata": {
        "id": "WxW51aGIhN2q"
      },
      "source": [
        "6. (7б). Продемонструйте різницю між isinstance та issubclass."
      ]
    },
    {
      "cell_type": "code",
      "execution_count": 8,
      "metadata": {
        "id": "E-QybeYShdAu"
      },
      "outputs": [
        {
          "name": "stdout",
          "output_type": "stream",
          "text": [
            "True\n",
            "True\n",
            "True\n",
            "False\n"
          ]
        }
      ],
      "source": [
        "class Parent: pass\n",
        "class Child(Parent): pass\n",
        "\n",
        "parent_instance = Parent()\n",
        "child_instance = Child()\n",
        "\n",
        "print(isinstance(parent_instance, Parent))\n",
        "print(isinstance(child_instance, Parent))\n",
        "\n",
        "print(issubclass(Child, Parent)) \n",
        "print(issubclass(Parent, Child)) "
      ]
    },
    {
      "cell_type": "markdown",
      "metadata": {
        "id": "Mrup7UL3hfC3"
      },
      "source": [
        "7. (16б). Створіть клас BankAccount з приватними атрибутами balance та account_number.\n",
        "Реалізуйте методи поповнення та зняття коштів, забезпечивши належну інкапсуляцію. Підказка: використовуйте декоратори getter та setter."
      ]
    },
    {
      "cell_type": "code",
      "execution_count": 9,
      "metadata": {
        "id": "Vi8gw9G6i37Y"
      },
      "outputs": [
        {
          "data": {
            "text/plain": [
              "1300"
            ]
          },
          "execution_count": 9,
          "metadata": {},
          "output_type": "execute_result"
        }
      ],
      "source": [
        "class BankAccount:\n",
        "    def __init__(self, account_number, initial_balance=0):\n",
        "        self.__balance = initial_balance\n",
        "        self.__account_number = account_number\n",
        "\n",
        "    @property\n",
        "    def balance(self):\n",
        "        return self.__balance\n",
        "\n",
        "    @balance.setter\n",
        "    def balance(self, value):\n",
        "        if value < 0:\n",
        "            raise ValueError(\"Баланс не може бути від'ємним\")\n",
        "        self.__balance = value\n",
        "\n",
        "    def deposit(self, amount):\n",
        "        if amount < 0:\n",
        "            raise ValueError(\"Сума поповнення не може бути від'ємною\")\n",
        "        self.__balance += amount\n",
        "\n",
        "    def withdraw(self, amount):\n",
        "        if amount > self.__balance:\n",
        "            raise ValueError(\"Недостатньо коштів на рахунку для зняття\")\n",
        "        if amount < 0:\n",
        "            raise ValueError(\"Сума зняття не може бути від'ємною\")\n",
        "        self.__balance -= amount\n",
        "\n",
        "account = BankAccount(\"123456789\", 1000)\n",
        "account.deposit(500)\n",
        "account.withdraw(200)\n",
        "account.balance  "
      ]
    },
    {
      "cell_type": "markdown",
      "metadata": {
        "id": "q1mgZYuFjB_q"
      },
      "source": [
        "8. (16б). Створіть клас Library, який містить список об'єктів типу Book.\n",
        "Реалізуйте методи для додавання книги, видалення книги та відображення списку книг."
      ]
    },
    {
      "cell_type": "code",
      "execution_count": 12,
      "metadata": {
        "id": "z1W8DINmjQQj"
      },
      "outputs": [
        {
          "name": "stdout",
          "output_type": "stream",
          "text": [
            "'1984' by George Orwell\n",
            "'To Kill a Mockingbird' by Harper Lee\n",
            "'The Providence Of Fire' by Brian Scott Staveley\n",
            "'To Kill a Mockingbird' by Harper Lee\n",
            "'The Providence Of Fire' by Brian Scott Staveley\n"
          ]
        }
      ],
      "source": [
        "class Book:\n",
        "    def __init__(self, title, author):\n",
        "        self.title = title\n",
        "        self.author = author\n",
        "\n",
        "    def __str__(self):\n",
        "        return f\"'{self.title}' by {self.author}\"\n",
        "\n",
        "class Library:\n",
        "    def __init__(self):\n",
        "        self.books = []\n",
        "\n",
        "    def add_book(self, book):\n",
        "        self.books.append(book)\n",
        "\n",
        "    def remove_book(self, book):\n",
        "        if book in self.books:\n",
        "            self.books.remove(book)\n",
        "\n",
        "    def display_books(self):\n",
        "        if self.books:\n",
        "            for book in self.books:\n",
        "                print(book)\n",
        "        else:\n",
        "            print(\"У бібліотеці немає книг.\")\n",
        "\n",
        "book1 = Book(\"1984\", \"George Orwell\")\n",
        "book2 = Book(\"To Kill a Mockingbird\", \"Harper Lee\")\n",
        "book3 = Book(\"The Providence Of Fire\", \"Brian Scott Staveley\")\n",
        "\n",
        "library = Library()\n",
        "library.add_book(book1)\n",
        "library.add_book(book2)\n",
        "library.add_book(book3)\n",
        "\n",
        "library.display_books()\n",
        "\n",
        "library.remove_book(book1)\n",
        "library.display_books()"
      ]
    },
    {
      "cell_type": "markdown",
      "metadata": {
        "id": "cCzctafPjwiZ"
      },
      "source": [
        "9. (13б). Створіть клас Person з атрибутами name та age.\n",
        "Створіть ще один клас Employee з такими атрибутами, як department та salary.\n",
        "Створіть клас Manager, який успадковує обидва класи Person та Employee. Продемонструйте використання множинної спадковості, створивши обʼєкт класу Manager та отримавши mro для цього класу."
      ]
    },
    {
      "cell_type": "code",
      "execution_count": 13,
      "metadata": {
        "id": "tZQ8-tfPk1k5"
      },
      "outputs": [
        {
          "data": {
            "text/plain": [
              "(('John Doe', 40, 'IT', 80000),\n",
              " (__main__.Manager, __main__.Person, __main__.Employee, object))"
            ]
          },
          "execution_count": 13,
          "metadata": {},
          "output_type": "execute_result"
        }
      ],
      "source": [
        "class Person:\n",
        "    def __init__(self, name, age):\n",
        "        self.name = name\n",
        "        self.age = age\n",
        "\n",
        "class Employee:\n",
        "    def __init__(self, department, salary):\n",
        "        self.department = department\n",
        "        self.salary = salary\n",
        "\n",
        "class Manager(Person, Employee):\n",
        "    def __init__(self, name, age, department, salary):\n",
        "        Person.__init__(self, name, age)\n",
        "        Employee.__init__(self, department, salary)\n",
        "\n",
        "manager = Manager(\"John Doe\", 40, \"IT\", 80000)\n",
        "\n",
        "manager_info = (manager.name, manager.age, manager.department, manager.salary)\n",
        "\n",
        "manager_mro = Manager.__mro__\n",
        "\n",
        "manager_info, manager_mro"
      ]
    },
    {
      "cell_type": "markdown",
      "metadata": {
        "id": "dzH9DdFTOxCC"
      },
      "source": [
        "# Вітаю! Ви велика(ий) молодець, що впоралась(вся). Похваліть себе та побалуйте чимось приємним. Я Вами пишаюся."
      ]
    }
  ],
  "metadata": {
    "colab": {
      "provenance": []
    },
    "kernelspec": {
      "display_name": "Python 3",
      "name": "python3"
    },
    "language_info": {
      "codemirror_mode": {
        "name": "ipython",
        "version": 3
      },
      "file_extension": ".py",
      "mimetype": "text/x-python",
      "name": "python",
      "nbconvert_exporter": "python",
      "pygments_lexer": "ipython3",
      "version": "3.12.0"
    }
  },
  "nbformat": 4,
  "nbformat_minor": 0
}
