{
  "cells": [
    {
      "cell_type": "markdown",
      "metadata": {
        "id": "bhnw_OBiped2"
      },
      "source": [
        "# I. range."
      ]
    },
    {
      "cell_type": "markdown",
      "metadata": {
        "id": "cS4sWGwctkLH"
      },
      "source": [
        "1. (4 бали) Створіть обʼєкт типу range, який буде містити послідовність цілих чисел від 0 до 9 включно. Виведіть його довжину (кількість значень)."
      ]
    },
    {
      "cell_type": "code",
      "execution_count": null,
      "metadata": {
        "id": "1XFhN5gVte4X"
      },
      "outputs": [],
      "source": []
    },
    {
      "cell_type": "markdown",
      "metadata": {
        "id": "VZ0Dh0m-t9tM"
      },
      "source": [
        "2. (5 балів) Створіть обʼєкт типу range, який буде містити послідовність цілих чисел (16, 13, 10, 7, 4, 1, -2, -5)"
      ]
    },
    {
      "cell_type": "code",
      "execution_count": null,
      "metadata": {
        "id": "YavF1Agaoe8J"
      },
      "outputs": [],
      "source": []
    },
    {
      "cell_type": "markdown",
      "metadata": {
        "id": "nBmE3_nMuavj"
      },
      "source": [
        "3. (4 бали) Створіть змінну зі значенням цілого типу. Перевірте, чи вона належить проміжку від 49 до 100 включно. Як ви гадаєте, для чого використовуються range?"
      ]
    },
    {
      "cell_type": "code",
      "execution_count": null,
      "metadata": {
        "id": "5KmgBmOIuku4"
      },
      "outputs": [],
      "source": []
    },
    {
      "cell_type": "markdown",
      "metadata": {
        "id": "hZHtKQUJxDxj"
      },
      "source": [
        "**місце для відповіді*"
      ]
    },
    {
      "cell_type": "markdown",
      "metadata": {
        "id": "56FjMkPatTD6"
      },
      "source": [
        "# II. Comprehensions."
      ]
    },
    {
      "cell_type": "markdown",
      "metadata": {
        "id": "AZyfyNfYvOyq"
      },
      "source": [
        "4. (6 балів) Створіть множину (set), використовуючи range та set comprehension."
      ]
    },
    {
      "cell_type": "code",
      "execution_count": 15,
      "metadata": {
        "id": "DE8oNYSUvNfR"
      },
      "outputs": [
        {
          "data": {
            "text/plain": [
              "{1, 2, 3, 4, 5, 6, 7, 8, 9, 10}"
            ]
          },
          "execution_count": 15,
          "metadata": {},
          "output_type": "execute_result"
        }
      ],
      "source": [
        "set_comprehension = {x for x in range(1, 11)}\n",
        "\n",
        "set_comprehension"
      ]
    },
    {
      "cell_type": "markdown",
      "metadata": {
        "id": "5IsyYnolvWxJ"
      },
      "source": [
        "5. (8 балів) Створіть словник, використовуючи dict comprehension, що містить if else. Коли слід використовувати comprehensions, а коли їх слід уникати?"
      ]
    },
    {
      "cell_type": "code",
      "execution_count": 12,
      "metadata": {
        "id": "PTLiarj4vWVu"
      },
      "outputs": [
        {
          "data": {
            "text/plain": [
              "{1: 'odd', 2: 'even', 3: 'odd', 4: 'even', 5: 'odd'}"
            ]
          },
          "execution_count": 12,
          "metadata": {},
          "output_type": "execute_result"
        }
      ],
      "source": [
        "dict_comprehension = {x: \"even\" if x % 2 == 0 else \"odd\" for x in range(1, 6)}\n",
        "dict_comprehension"
      ]
    },
    {
      "cell_type": "markdown",
      "metadata": {
        "id": "PcwgYcjdxYPA"
      },
      "source": [
        "Коли використовувати comprehensions:\n",
        "\n",
        "Для Простих Трансформацій: Коли потрібно швидко перетворити одну колекцію (список, множину, словник) в іншу з деякими простими трансформаціями або фільтрацією.\n",
        "\n",
        "Для Читабельності: Коли comprehensions роблять код більш читабельним та виразним.\n",
        "\n",
        "Для Коротких Операцій: Вони чудово підходять для невеликих обчислень, де логіка проста і не вимагає додаткових обгорток чи функцій.\n",
        "Коли уникати comprehensions:\n",
        "\n",
        "Складна Логіка: Якщо ви стикаєтеся зі складною логікою або вкладеними циклами, краще використати звичайні цикли для збереження читабельності.\n",
        "Значні Обчислення: Для великих об'ємів даних або складних обчислень може бути більш зручно та ефективно використовувати звичайні цикли та функції.\n",
        "Негативний Вплив на Читабельність: Якщо використання comprehension робить код важким для розуміння, краще віддати перевагу звичайному підходу."
      ]
    },
    {
      "cell_type": "markdown",
      "metadata": {
        "id": "xPVEDwk6vfhU"
      },
      "source": [
        "6. (7 балів) Створіть список з рядками та запишіть його у змінну. Створіть ще один список на основі попереднього, де кожен рядок буде містити тільки три перших заглавних символи. Наприклад: ['hello', 'i', 'dont', 'care'] -> ['HEL', 'I', 'DON', 'CAR']"
      ]
    },
    {
      "cell_type": "code",
      "execution_count": 13,
      "metadata": {
        "id": "l1FAM69Owi7q"
      },
      "outputs": [
        {
          "data": {
            "text/plain": [
              "['HEL', 'I', 'DON', 'CAR']"
            ]
          },
          "execution_count": 13,
          "metadata": {},
          "output_type": "execute_result"
        }
      ],
      "source": [
        "original_list = ['hello', 'i', 'dont', 'care']\n",
        "\n",
        "capitalized_list = [s[:3].upper() for s in original_list]\n",
        "\n",
        "capitalized_list\n",
        "\n"
      ]
    },
    {
      "cell_type": "markdown",
      "metadata": {
        "id": "9zEB8ekEtTnQ"
      },
      "source": [
        "# III. Цикли."
      ]
    },
    {
      "cell_type": "markdown",
      "metadata": {
        "id": "AlEfFe4Fwv8n"
      },
      "source": [
        "7. (6 балів) Продемонструйте роботу циклу while. Чи можна використовувати в умові циклу булеві значення? Чому?"
      ]
    },
    {
      "cell_type": "code",
      "execution_count": 10,
      "metadata": {
        "id": "kiDSbqo0wwMZ"
      },
      "outputs": [
        {
          "name": "stdout",
          "output_type": "stream",
          "text": [
            "Поточне значення лічильника: 0\n",
            "Поточне значення лічильника: 1\n",
            "Поточне значення лічильника: 2\n",
            "Поточне значення лічильника: 3\n",
            "Поточне значення лічильника: 4\n",
            "Цикл закінчено\n"
          ]
        }
      ],
      "source": [
        "counter = 0\n",
        "\n",
        "while counter < 5:\n",
        "    print(f\"Поточне значення лічильника: {counter}\")\n",
        "    counter += 1  \n",
        "\n",
        "print(\"Цикл закінчено\")\n"
      ]
    },
    {
      "cell_type": "markdown",
      "metadata": {
        "id": "J9TkD5_Cx3I1"
      },
      "source": [
        "8. (8 балів) Напишіть програму, яка виведе на екран непарні числа в діапазоні від 0 до 20 включно."
      ]
    },
    {
      "cell_type": "code",
      "execution_count": 9,
      "metadata": {
        "id": "5A1d-qvVx34B"
      },
      "outputs": [
        {
          "data": {
            "text/plain": [
              "[1, 3, 5, 7, 9, 11, 13, 15, 17, 19]"
            ]
          },
          "execution_count": 9,
          "metadata": {},
          "output_type": "execute_result"
        }
      ],
      "source": [
        "odd_numbers = [num for num in range(21) if num % 2 != 0]\n",
        "\n",
        "odd_numbers\n",
        "\n"
      ]
    },
    {
      "cell_type": "markdown",
      "metadata": {
        "id": "xN6Kfmqex4NU"
      },
      "source": [
        "9. (7 балів) Створіть список з елементами булевого типу або None. Використовуючи цикли, отримайте в результаті список з кортежами, де перший елемент кортежу - індекс(ціле число), а другий елемент - відповідне значення з першого списку.\n",
        "\n",
        "Наприклад, [True, True, None, False] -> [(0, True), (1, True), (2, None), (3, False)]"
      ]
    },
    {
      "cell_type": "code",
      "execution_count": 8,
      "metadata": {
        "id": "YhVlQnNIx405"
      },
      "outputs": [
        {
          "data": {
            "text/plain": [
              "[(0, True), (1, True), (2, None), (3, False)]"
            ]
          },
          "execution_count": 8,
          "metadata": {},
          "output_type": "execute_result"
        }
      ],
      "source": [
        "boolean_list = [True, True, None, False]\n",
        "\n",
        "indexed_list = [(i, val) for i, val in enumerate(boolean_list)]\n",
        "\n",
        "indexed_list\n",
        "\n"
      ]
    },
    {
      "cell_type": "markdown",
      "metadata": {
        "id": "cJNlWxHLx5mW"
      },
      "source": [
        "10. (10 балів) Створіть словник, де ключі - назви книжок, а значення - їхня кількість у наявності в Вашій міні-бібліотеці. Бібліотека має містити щонайменше 6 книжок (6 пар значень у словнику) і щонайбільше 10 (пар значень). Використовуючи цикли, оновіть словник (не створюйте новий) так, щоби кількість книг у наявності збільшилося на 5 кожної книги. Наприклад,\n",
        "{'It': 3, 'Fault stars': 10, 'Bible': 17, 'Psychological romance': 4, 'Harry Potter': 13} -> {'It': 8, 'Fault stars': 15, 'Bible': 22, 'Psychological romance': 9, 'Harry Potter': 18}"
      ]
    },
    {
      "cell_type": "code",
      "execution_count": 6,
      "metadata": {
        "id": "pI7I71ao0qh_"
      },
      "outputs": [
        {
          "data": {
            "text/plain": [
              "{\"Dragon's Dawn\": 13,\n",
              " 'The Wizard of Ooze': 20,\n",
              " 'Goblins and Goblets': 27,\n",
              " 'Elven Enigmas': 14,\n",
              " 'Tales of Mystic Might': 23,\n",
              " 'Chronicles of the Chosen': 17}"
            ]
          },
          "execution_count": 6,
          "metadata": {},
          "output_type": "execute_result"
        }
      ],
      "source": [
        "# Створення словника з книжками та їхньою кількістю\n",
        "library = {\n",
        "    \"Dragon's Dawn\": 8,\n",
        "    'The Wizard of Ooze': 15,\n",
        "    'Goblins and Goblets': 22,\n",
        "    'Elven Enigmas': 9,\n",
        "    'Tales of Mystic Might': 18,\n",
        "    'Chronicles of the Chosen': 12\n",
        "}\n",
        "\n",
        "\n",
        "for book in library:\n",
        "    library[book] += 5\n",
        "\n",
        "library\n",
        "\n"
      ]
    },
    {
      "cell_type": "markdown",
      "metadata": {
        "id": "qdZA6qi82GBa"
      },
      "source": [
        "11. (15 балів) Визначте цілочислену змінну n, що належить проміжку від 4 до 10 включно. Використовуючи цикли, виведіть в консоль наступний патерн.\n",
        "\n",
        "#\n",
        "##\n",
        "###\n",
        "####\n",
        "\n",
        "... #*n\n"
      ]
    },
    {
      "cell_type": "code",
      "execution_count": 4,
      "metadata": {
        "id": "aaHuUQHfx6YO"
      },
      "outputs": [
        {
          "name": "stdout",
          "output_type": "stream",
          "text": [
            "#\n",
            "##\n",
            "###\n",
            "####\n"
          ]
        }
      ],
      "source": [
        "n = 4\n",
        "\n",
        "for i in range(1, n + 1):\n",
        "    print(\"#\" * i)\n",
        "\n"
      ]
    },
    {
      "cell_type": "markdown",
      "metadata": {
        "id": "XOniyaun74Ed"
      },
      "source": [
        "12. (20 балів) Гра \"Нумо вгадай\".\n",
        "Розробіть просту гру, де користувач має вгадати випадкове число від 1 до 100. Для генерації випадкового числа використовуйте функцію random.randint(a, b) (тут a та b включно). Для отримання числа з консолі використовуйте функцію input(), результат якої обовʼязково явно приведіть до типу int.\n",
        "\n",
        "Підказка: використовуйте цикл while та умови if-else, щоб повідомити користувачу піказки (напр. \"Більше\", \"Менше\") поки користувач не вгадає. По завершенню виведіть кількість спроб, які знадобилися для вгадування.\n"
      ]
    },
    {
      "cell_type": "code",
      "execution_count": 1,
      "metadata": {
        "id": "iomCeUuW73NG"
      },
      "outputs": [
        {
          "name": "stdout",
          "output_type": "stream",
          "text": [
            "Менше\n",
            "Менше\n",
            "Менше\n",
            "Менше\n",
            "Менше\n",
            "Менше\n",
            "Менше\n",
            "Більше\n",
            "Вітаємо! Ви вгадали число 4 за 9 спроб.\n"
          ]
        }
      ],
      "source": [
        "import random\n",
        "\n",
        "def guess_number_game():\n",
        "    random_number = random.randint(1, 100)\n",
        "    attempts = 0\n",
        "    while True:\n",
        "        try:\n",
        "            guess = int(input(\"Вгадайте число від 1 до 100: \"))\n",
        "            attempts += 1\n",
        "            if guess < random_number:\n",
        "                print(\"Більше\")\n",
        "            elif guess > random_number:\n",
        "                print(\"Менше\")\n",
        "            else:\n",
        "                print(f\"Вітаємо! Ви вгадали число {random_number} за {attempts} спроб.\")\n",
        "                break\n",
        "        except ValueError:\n",
        "            print(\"Будь ласка, введіть ціле число.\")\n",
        "\n",
        "guess_number_game()\n"
      ]
    },
    {
      "cell_type": "markdown",
      "metadata": {
        "id": "jTs-rqOptY2R"
      },
      "source": [
        "# Вітаю! Ви велика(ий) молодець, що впоралась(вся). Похваліть себе та побалуйте чимось приємним. Я Вами пишаюся."
      ]
    }
  ],
  "metadata": {
    "colab": {
      "provenance": []
    },
    "kernelspec": {
      "display_name": "Python 3",
      "name": "python3"
    },
    "language_info": {
      "codemirror_mode": {
        "name": "ipython",
        "version": 3
      },
      "file_extension": ".py",
      "mimetype": "text/x-python",
      "name": "python",
      "nbconvert_exporter": "python",
      "pygments_lexer": "ipython3",
      "version": "3.12.0"
    }
  },
  "nbformat": 4,
  "nbformat_minor": 0
}
