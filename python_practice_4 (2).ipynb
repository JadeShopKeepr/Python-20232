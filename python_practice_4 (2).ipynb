{
  "cells": [
    {
      "cell_type": "markdown",
      "metadata": {
        "id": "-xM96SkgLNxS"
      },
      "source": [
        "# I. Functions. Arguments."
      ]
    },
    {
      "cell_type": "markdown",
      "metadata": {
        "id": "RFkkDC1jikAI"
      },
      "source": [
        "0. (5б) Назвіть 4 частини, з яких складається визначення функції."
      ]
    },
    {
      "cell_type": "code",
      "execution_count": 2,
      "metadata": {
        "id": "tV4xxWnFisqZ"
      },
      "outputs": [
        {
          "ename": "SyntaxError",
          "evalue": "unterminated string literal (detected at line 3) (1208195457.py, line 3)",
          "output_type": "error",
          "traceback": [
            "\u001b[1;36m  Cell \u001b[1;32mIn[2], line 3\u001b[1;36m\u001b[0m\n\u001b[1;33m    Назва Функції: Унікальне ідентифікуюче ім'я функції. Воно використовується для виклику функції в інших частинах програми.\u001b[0m\n\u001b[1;37m                                             ^\u001b[0m\n\u001b[1;31mSyntaxError\u001b[0m\u001b[1;31m:\u001b[0m unterminated string literal (detected at line 3)\n"
          ]
        }
      ],
      "source": [
        "Ключове Слово def: Це вказує Python, що починається визначення нової функції.\n",
        "\n",
        "Назва Функції: Унікальне ідентифікуюче ім'я функції. Воно використовується для виклику функції в інших частинах програми.\n",
        "\n",
        "Параметри (Аргументи): Список параметрів, які функція приймає. Параметри розміщуються всередині круглих дужок. Якщо функція не приймає жодних параметрів, дужки залишаються пустими.\n",
        "\n",
        "Тіло Функції: Блок коду, який виконується, коли функція викликається. Тіло функції відділяється від інших частин програми відступом, який показує, що цей код є частиною функції."
      ]
    },
    {
      "cell_type": "markdown",
      "metadata": {
        "id": "mg6qjOB2LbVs"
      },
      "source": [
        "1. (4б) Визначте функцію, що приймає 2 аргументи та повертає результат ділення 1го аргумента на інший."
      ]
    },
    {
      "cell_type": "code",
      "execution_count": 3,
      "metadata": {
        "id": "lUbA_FWjKxQD"
      },
      "outputs": [
        {
          "name": "stdout",
          "output_type": "stream",
          "text": [
            "5.0\n",
            "2.0\n"
          ]
        }
      ],
      "source": [
        "def divide(a, b):\n",
        "    if b == 0:\n",
        "        return \"Ділення на нуль неможливе\"\n",
        "    else:\n",
        "        return a / b\n",
        "\n",
        "\n",
        "result = divide(10, 2)\n",
        "print(result)  \n",
        "\n",
        "result = divide(10, 5)  \n",
        "print(result) \n"
      ]
    },
    {
      "cell_type": "markdown",
      "metadata": {
        "id": "wMAYj2KXLpiJ"
      },
      "source": [
        "2. (2б) Викличте вище визначену функцію, де другий аргумент дорівнює 0."
      ]
    },
    {
      "cell_type": "code",
      "execution_count": 2,
      "metadata": {
        "id": "103jJj32Lo4Y"
      },
      "outputs": [
        {
          "data": {
            "text/plain": [
              "'Ділення на нуль неможливе'"
            ]
          },
          "execution_count": 2,
          "metadata": {},
          "output_type": "execute_result"
        }
      ],
      "source": [
        "def divide(a, b):\n",
        "    if b == 0:\n",
        "        return \"Ділення на нуль неможливе\"\n",
        "    else:\n",
        "        return a / b\n",
        "\n",
        "result = divide(10, 0)\n",
        "result\n"
      ]
    },
    {
      "cell_type": "markdown",
      "metadata": {
        "id": "eT-pwEwPMD3T"
      },
      "source": [
        "3. (6б) Перевизначте функцію так, щоби у випадку ділення на 0 функція повертала None, а в решті випадків - результат розрахунків."
      ]
    },
    {
      "cell_type": "code",
      "execution_count": 4,
      "metadata": {
        "id": "1h6Jz7CKMTk_"
      },
      "outputs": [
        {
          "name": "stdout",
          "output_type": "stream",
          "text": [
            "5.0\n",
            "None\n"
          ]
        }
      ],
      "source": [
        "def divide(a, b):\n",
        "    if b == 0:\n",
        "        return None\n",
        "    else:\n",
        "        return a / b\n",
        "\n",
        "\n",
        "result = divide(10, 2) \n",
        "print(result)  \n",
        "\n",
        "result = divide(10, 0)  \n",
        "print(result)  \n"
      ]
    },
    {
      "cell_type": "markdown",
      "metadata": {
        "id": "iuTiofyDMVMG"
      },
      "source": [
        "4. (5б) Напишіть документацію (docstring) у форматі Google до функції, що має обчислювати суму двох чисел."
      ]
    },
    {
      "cell_type": "code",
      "execution_count": 5,
      "metadata": {
        "id": "a9E6iU_iNyYQ"
      },
      "outputs": [],
      "source": [
        "def add_numbers(a, b):\n",
        "    \"\"\"Обчислює суму двох чисел.\n",
        "\n",
        "    Args:\n",
        "        a (float or int): Перше число для додавання.\n",
        "        b (float or int): Друге число для додавання.\n",
        "\n",
        "    Returns:\n",
        "        float or int: Результат додавання двох чисел.\n",
        "\n",
        "    Examples:\n",
        "        >>> add_numbers(10, 5)\n",
        "        15\n",
        "        >>> add_numbers(2.5, 3.5)\n",
        "        6.0\n",
        "    \"\"\"\n",
        "    return a + b\n"
      ]
    },
    {
      "cell_type": "markdown",
      "metadata": {
        "id": "ZvrsUQZFN5VT"
      },
      "source": [
        "5. (4б) Реалізуйте цю функцію (із додаванням docstring у визначення функції)."
      ]
    },
    {
      "cell_type": "code",
      "execution_count": 6,
      "metadata": {
        "id": "K5h3KTVuOBP3"
      },
      "outputs": [
        {
          "data": {
            "text/plain": [
              "(15, 6.0)"
            ]
          },
          "execution_count": 6,
          "metadata": {},
          "output_type": "execute_result"
        }
      ],
      "source": [
        "def add_numbers(a, b):\n",
        "    \"\"\"Обчислює суму двох чисел.\n",
        "\n",
        "    Args:\n",
        "        a (float or int): Перше число для додавання.\n",
        "        b (float or int): Друге число для додавання.\n",
        "\n",
        "    Returns:\n",
        "        float or int: Результат додавання двох чисел.\n",
        "\n",
        "    Examples:\n",
        "        >>> add_numbers(10, 5)\n",
        "        15\n",
        "        >>> add_numbers(2.5, 3.5)\n",
        "        6.0\n",
        "    \"\"\"\n",
        "    return a + b\n",
        "\n",
        "\n",
        "test1 = add_numbers(10, 5)\n",
        "test2 = add_numbers(2.5, 3.5)\n",
        "\n",
        "test1, test2\n",
        "\n"
      ]
    },
    {
      "cell_type": "markdown",
      "metadata": {
        "id": "IILi2wfYOwYb"
      },
      "source": [
        "6. (6б) Визначте функцію, що віднімає одне число від іншого (підказка: це буде 2 аргументи функції). При чому, якщо не визначити, скільки саме має бути віднято від числа, за замовчуванням має відніматися 1. Викличте функцію, передаючи тільки один аргумент."
      ]
    },
    {
      "cell_type": "code",
      "execution_count": 7,
      "metadata": {
        "id": "hybHnk8ROvxQ"
      },
      "outputs": [
        {
          "data": {
            "text/plain": [
              "9"
            ]
          },
          "execution_count": 7,
          "metadata": {},
          "output_type": "execute_result"
        }
      ],
      "source": [
        "def subtract_number(a, b=1):\n",
        "    return a - b\n",
        "\n",
        "# Виклик функції з одним аргументом\n",
        "result = subtract_number(10)\n",
        "result\n",
        "\n"
      ]
    },
    {
      "cell_type": "markdown",
      "metadata": {
        "id": "UK6o8zcuR7cH"
      },
      "source": [
        "7. (10б) Визначте функцію, яка приймає iterable (ітерабельний обʼєкт, напр. список), що складається з 7ми рядкових значень - назв погодних умов (напр. \"sunny\") за кожен день у тижні. Повертає функція словник, де ключами є рядки з погодними умовами, а значеннями - кількість разів, скільки дана погода була протягом тижня (напр. {'sunny': 1, ...})."
      ]
    },
    {
      "cell_type": "code",
      "execution_count": 8,
      "metadata": {
        "id": "3gkR5gl0SyYO"
      },
      "outputs": [
        {
          "data": {
            "text/plain": [
              "{'sunny': 3, 'rainy': 2, 'cloudy': 1, 'foggy': 1}"
            ]
          },
          "execution_count": 8,
          "metadata": {},
          "output_type": "execute_result"
        }
      ],
      "source": [
        "def weather_frequency(weather_list):\n",
        "    weather_count = {}\n",
        "    for weather in weather_list:\n",
        "        if weather in weather_count:\n",
        "            weather_count[weather] += 1\n",
        "        else:\n",
        "            weather_count[weather] = 1\n",
        "    return weather_count\n",
        "\n",
        "# Приклад використання функції\n",
        "weather_data = [\"sunny\", \"rainy\", \"sunny\", \"cloudy\", \"rainy\", \"sunny\", \"foggy\"]\n",
        "weather_report = weather_frequency(weather_data)\n",
        "weather_report\n",
        "\n"
      ]
    },
    {
      "cell_type": "markdown",
      "metadata": {
        "id": "x4zhem_2Syf7"
      },
      "source": [
        "8. (3б) Викличте цю функцію тричі з різними аргументами та виведіть результати на екран."
      ]
    },
    {
      "cell_type": "code",
      "execution_count": 10,
      "metadata": {
        "id": "B0agh7urS0Fc"
      },
      "outputs": [
        {
          "data": {
            "text/plain": [
              "({'sunny': 2, 'rainy': 2, 'foggy': 1, 'cloudy': 2},\n",
              " {'cloudy': 3, 'sunny': 2, 'rainy': 2},\n",
              " {'foggy': 2, 'sunny': 3, 'cloudy': 1, 'rainy': 1})"
            ]
          },
          "execution_count": 10,
          "metadata": {},
          "output_type": "execute_result"
        }
      ],
      "source": [
        "weather_data1 = [\"sunny\", \"sunny\", \"rainy\", \"foggy\", \"cloudy\", \"cloudy\", \"rainy\"]\n",
        "weather_data2 = [\"cloudy\", \"cloudy\", \"cloudy\", \"sunny\", \"sunny\", \"rainy\", \"rainy\"]\n",
        "weather_data3 = [\"foggy\", \"foggy\", \"sunny\", \"sunny\", \"cloudy\", \"rainy\", \"sunny\"]\n",
        "\n",
        "weather_report1 = weather_frequency(weather_data1)\n",
        "weather_report2 = weather_frequency(weather_data2)\n",
        "weather_report3 = weather_frequency(weather_data3)\n",
        "\n",
        "weather_report1, weather_report2, weather_report3\n"
      ]
    },
    {
      "cell_type": "markdown",
      "metadata": {
        "id": "bLgviTMlUlNG"
      },
      "source": [
        "9. (15б) Напишіть програму, яка б шукала необхідне число у **впорядкованому** списку цілочислених значень, де\n",
        "\n",
        "\n",
        "1.   число має вводитись з консолі.\n",
        "2.   власне алгоритм пошуку винесений в окрему функцію, яка повертає булеве значення (знайдено число - True, не знайдено - False).\n",
        "3. в залежності від результату функції, виведіть на екран повідомлення про успішний або ж неуспішний пошук.\n",
        "\n",
        "\n",
        "**Зауваження**: використовувати оператор **in** заборонено."
      ]
    },
    {
      "cell_type": "code",
      "execution_count": 11,
      "metadata": {
        "id": "LAHz6MmdcWfP"
      },
      "outputs": [
        {
          "name": "stdout",
          "output_type": "stream",
          "text": [
            "Число 7 знайдено у списку.\n"
          ]
        }
      ],
      "source": [
        "def binary_search(sorted_list, target):\n",
        "    left, right = 0, len(sorted_list) - 1\n",
        "    while left <= right:\n",
        "        mid = (left + right) // 2\n",
        "        if sorted_list[mid] == target:\n",
        "            return True\n",
        "        elif sorted_list[mid] < target:\n",
        "            left = mid + 1\n",
        "        else:\n",
        "            right = mid - 1\n",
        "    return False\n",
        "\n",
        "sorted_list = [1, 3, 5, 7, 9, 11, 13, 15]\n",
        "target = 7\n",
        "\n",
        "found = binary_search(sorted_list, target)\n",
        "\n",
        "if found:\n",
        "    print(f\"Число {target} знайдено у списку.\")\n",
        "else:\n",
        "    print(f\"Число {target} не знайдено у списку.\")\n"
      ]
    },
    {
      "cell_type": "markdown",
      "metadata": {
        "id": "wCKOEiKhLSld"
      },
      "source": [
        "# II. Lambda functions."
      ]
    },
    {
      "cell_type": "markdown",
      "metadata": {
        "id": "c4EBfW6QcXF7"
      },
      "source": [
        "10. (6б) Визначте анонімну функцію, що виконувала б завдання з задачі №1."
      ]
    },
    {
      "cell_type": "code",
      "execution_count": 12,
      "metadata": {
        "id": "sGgO6KjuhUj5"
      },
      "outputs": [
        {
          "name": "stdout",
          "output_type": "stream",
          "text": [
            "5.0\n",
            "Ділення на нуль неможливе\n"
          ]
        }
      ],
      "source": [
        "divide = lambda a, b: a / b if b != 0 else \"Ділення на нуль неможливе\"\n",
        "\n",
        "result1 = divide(10, 2) \n",
        "result2 = divide(10, 0)  \n",
        "\n",
        "print(result1)  \n",
        "print(result2)  \n"
      ]
    },
    {
      "cell_type": "markdown",
      "metadata": {
        "id": "fWa0efmRhepO"
      },
      "source": [
        "11. (5б) В яких випадках варто використовувати лямбда-функції?"
      ]
    },
    {
      "cell_type": "markdown",
      "metadata": {
        "id": "R68BViaPhad_"
      },
      "source": [
        "Коли потрібна проста функція для одноразового використання, і немає необхідності її називати."
      ]
    },
    {
      "cell_type": "markdown",
      "metadata": {
        "id": "0CL6ikIkhU7j"
      },
      "source": [
        "12. (9б) Визначте список з рядками. Після цього визначте анонімну функцію для отримання першого символу у верхньому регістрі для кожного рядка списку.\n",
        "*Підказка*: використовуйте анонімну функцію в якості агрумента до вбудованої ф-ції, яка створена для застосування функцій над iterable обʼєктами.\n",
        "Результат виведіть на екран у вигляді кортежу."
      ]
    },
    {
      "cell_type": "code",
      "execution_count": 13,
      "metadata": {
        "id": "I1Lw2SSNhhJw"
      },
      "outputs": [
        {
          "data": {
            "text/plain": [
              "('A', 'B', 'C', 'D')"
            ]
          },
          "execution_count": 13,
          "metadata": {},
          "output_type": "execute_result"
        }
      ],
      "source": [
        "# Визначення списку з рядками\n",
        "string_list = [\"apple\", \"banana\", \"cherry\", \"date\"]\n",
        "\n",
        "first_upper = lambda s: s[0].upper() if s else ''\n",
        "\n",
        "result = tuple(map(first_upper, string_list))\n",
        "\n",
        "result\n",
        "\n"
      ]
    },
    {
      "cell_type": "markdown",
      "metadata": {
        "id": "rgGmGt67m5yi"
      },
      "source": [
        "# III. Decorators."
      ]
    },
    {
      "cell_type": "markdown",
      "metadata": {
        "id": "DZm1W0Qqncu8"
      },
      "source": [
        "13. (15б) Визначте декоратор, який би виводив у консоль повідомлення про початок роботи і назву функції, а після відпрацювання функції - повідомлення про закінчення роботи і назву функції, що задекорована."
      ]
    },
    {
      "cell_type": "code",
      "execution_count": 1,
      "metadata": {
        "id": "5s3X3F6soer0"
      },
      "outputs": [
        {
          "name": "stdout",
          "output_type": "stream",
          "text": [
            "Початок роботи функції sample_function\n",
            "Функція виконується\n",
            "Закінчення роботи функції sample_function\n"
          ]
        }
      ],
      "source": [
        "def function_decorator(func):\n",
        "    def wrapper(*args, **kwargs):\n",
        "        print(f\"Початок роботи функції {func.__name__}\")\n",
        "        result = func(*args, **kwargs)\n",
        "        print(f\"Закінчення роботи функції {func.__name__}\")\n",
        "        return result\n",
        "    return wrapper\n",
        "\n",
        "# Приклад використання декоратора\n",
        "@function_decorator\n",
        "def sample_function():\n",
        "    print(\"Функція виконується\")\n",
        "\n",
        "sample_function()\n"
      ]
    },
    {
      "cell_type": "markdown",
      "metadata": {
        "id": "AlGt40oVofHB"
      },
      "source": [
        "14. (7б) Задекоруйте функції з завдання 3, 5 та 6 декоратором із завдання 13. *Примітка*: продемонструйте 2 способи, як можна задекорувати функції (**УВАГА**: не декоруйте функції двічі!)."
      ]
    },
    {
      "cell_type": "code",
      "execution_count": 15,
      "metadata": {
        "id": "hkxhoRVqo1AW"
      },
      "outputs": [
        {
          "name": "stdout",
          "output_type": "stream",
          "text": [
            "Виклик функції divide:\n",
            "Викликано функцію: divide з аргументами: (10, 2)\n",
            "\n",
            "Виклик функції add_numbers:\n",
            "Викликано функцію: add_numbers з аргументами: (5, 3)\n",
            "\n",
            "Виклик функції subtract_number з одним аргументом:\n",
            "Викликано функцію: subtract_number з аргументами: (8,)\n"
          ]
        },
        {
          "data": {
            "text/plain": [
              "(5.0, 8, 7)"
            ]
          },
          "execution_count": 15,
          "metadata": {},
          "output_type": "execute_result"
        }
      ],
      "source": [
        "def log_function_call(func):\n",
        "    def wrapper(*args, **kwargs):\n",
        "        print(f\"Викликано функцію: {func.__name__} з аргументами: {args}\")\n",
        "        return func(*args, **kwargs)\n",
        "    return wrapper\n",
        "\n",
        "# Завдання 3: Функція з діленням\n",
        "@log_function_call\n",
        "def divide(a, b):\n",
        "    if b == 0:\n",
        "        return None\n",
        "    else:\n",
        "        return a / b\n",
        "\n",
        "# Завдання 5: Функція з додаванням\n",
        "@log_function_call\n",
        "def add_numbers(a, b):\n",
        "    return a + b\n",
        "\n",
        "# Завдання 6: Функція з відніманням\n",
        "@log_function_call\n",
        "def subtract_number(a, b=1):\n",
        "    return a - b\n",
        "\n",
        "# Демонстрація функцій з декоратором\n",
        "print(\"Виклик функції divide:\")\n",
        "result_divide = divide(10, 2)\n",
        "\n",
        "print(\"\\nВиклик функції add_numbers:\")\n",
        "result_add = add_numbers(5, 3)\n",
        "\n",
        "print(\"\\nВиклик функції subtract_number з одним аргументом:\")\n",
        "result_subtract = subtract_number(8)\n",
        "\n",
        "result_divide, result_add, result_subtract"
      ]
    },
    {
      "cell_type": "markdown",
      "metadata": {
        "id": "6QkS0Kxzo4UR"
      },
      "source": [
        "15. (2б) Викличте одну з задекорованих функцій і виведіть її результат на екран."
      ]
    },
    {
      "cell_type": "code",
      "execution_count": 17,
      "metadata": {
        "id": "BCCCPai6o-y5"
      },
      "outputs": [
        {
          "name": "stdout",
          "output_type": "stream",
          "text": [
            "Викликано функцію: add_numbers з аргументами: (10, 7)\n"
          ]
        },
        {
          "data": {
            "text/plain": [
              "17"
            ]
          },
          "execution_count": 17,
          "metadata": {},
          "output_type": "execute_result"
        }
      ],
      "source": [
        "result_add = add_numbers(10, 7)\n",
        "\n",
        "result_add\n",
        "\n"
      ]
    },
    {
      "cell_type": "markdown",
      "metadata": {
        "id": "CSN0Q5pMQVNQ"
      },
      "source": [
        "# Вітаю! Ви велика(ий) молодець, що впоралась(вся). Похваліть себе та побалуйте чимось приємним. Я Вами пишаюся."
      ]
    }
  ],
  "metadata": {
    "colab": {
      "provenance": []
    },
    "kernelspec": {
      "display_name": "Python 3",
      "name": "python3"
    },
    "language_info": {
      "codemirror_mode": {
        "name": "ipython",
        "version": 3
      },
      "file_extension": ".py",
      "mimetype": "text/x-python",
      "name": "python",
      "nbconvert_exporter": "python",
      "pygments_lexer": "ipython3",
      "version": "3.12.0"
    }
  },
  "nbformat": 4,
  "nbformat_minor": 0
}
