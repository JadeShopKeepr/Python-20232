{
  "cells": [
    {
      "cell_type": "markdown",
      "metadata": {
        "id": "EVJ7AflwxrZi"
      },
      "source": [
        "# I. Рядки (String)."
      ]
    },
    {
      "cell_type": "markdown",
      "metadata": {
        "id": "_s5ECzz9zE61"
      },
      "source": [
        "1. Створити пустий рядок двома різними способами."
      ]
    },
    {
      "cell_type": "code",
      "execution_count": 1,
      "metadata": {
        "id": "HsDOUUMWxo6D"
      },
      "outputs": [
        {
          "data": {
            "text/plain": [
              "('', '')"
            ]
          },
          "execution_count": 1,
          "metadata": {},
          "output_type": "execute_result"
        }
      ],
      "source": [
        "\n",
        "double_quotes = \"\"\n",
        "\n",
        "single_quotes = ''\n",
        "\n",
        "double_quotes, single_quotes\n",
        "\n"
      ]
    },
    {
      "cell_type": "markdown",
      "metadata": {
        "id": "4Bdn9J3MzLf_"
      },
      "source": [
        "2. Створити рядок з апострофом."
      ]
    },
    {
      "cell_type": "code",
      "execution_count": 2,
      "metadata": {
        "id": "OjyFU0iKzPc2"
      },
      "outputs": [
        {
          "data": {
            "text/plain": [
              "\"It's a beautiful day\""
            ]
          },
          "execution_count": 2,
          "metadata": {},
          "output_type": "execute_result"
        }
      ],
      "source": [
        "\n",
        "string_with_apostrophe = \"It's a beautiful day\"\n",
        "\n",
        "string_with_apostrophe\n",
        "\n"
      ]
    },
    {
      "cell_type": "markdown",
      "metadata": {
        "id": "qj7LjXFazbx1"
      },
      "source": [
        "3. Створити рядок з символом переходу на новий рядок та роздрукувати його в консоль."
      ]
    },
    {
      "cell_type": "code",
      "execution_count": 3,
      "metadata": {
        "id": "K9J-tLXczmyo"
      },
      "outputs": [
        {
          "name": "stdout",
          "output_type": "stream",
          "text": [
            "Printed string with newline:\n",
            "Hello,\n",
            "World!\n"
          ]
        }
      ],
      "source": [
        "string_with_newline = \"Hello,\\nWorld!\"\n",
        "\n",
        "print(\"Printed string with newline:\")\n",
        "print(string_with_newline)"
      ]
    },
    {
      "cell_type": "markdown",
      "metadata": {
        "id": "XEYGh-BGzzfD"
      },
      "source": [
        "4. Зробити рядок з завдання №3 \"сирим\"(raw), вивести в консоль та порівняти з результатом в попередному завданні."
      ]
    },
    {
      "cell_type": "code",
      "execution_count": 4,
      "metadata": {
        "id": "0Mb7qYqgzntd"
      },
      "outputs": [
        {
          "name": "stdout",
          "output_type": "stream",
          "text": [
            "\n",
            "Printed raw string:\n",
            "Hello,\\nWorld!\n"
          ]
        }
      ],
      "source": [
        "raw_string_with_newline = r\"Hello,\\nWorld!\"\n",
        "\n",
        "print(\"\\nPrinted raw string:\")\n",
        "print(raw_string_with_newline)\n"
      ]
    },
    {
      "cell_type": "markdown",
      "metadata": {
        "id": "xLM76Cnfz3T_"
      },
      "source": [
        "Стандартний Рядок з Переходом на Новий Рядок (string_with_newline):\n",
        "\n",
        "Після слова \"Hello,\" відбувся перехід на новий рядок, тому \"World!\" відображається на наступному рядку.\n",
        "\"Сирий\" Рядок (raw_string_with_newline):\n",
        "\n",
        "У \"сирому\" рядку символ \\n відображається як звичайний текст, і тому не викликає перехід на новий рядок. Весь рядок відображається в одному рядку з відображеними символами \\ та n."
      ]
    },
    {
      "cell_type": "markdown",
      "metadata": {
        "id": "bg_d8wM4z8dS"
      },
      "source": [
        "5. Створити змінну, що буде посилатися на Ваше прізвище латинкою. Створити форматований рядок, який буде мати вигляд \"My surname is ______\", де на місці нижніх підкреслень буде Ваше прізвище зі змінної."
      ]
    },
    {
      "cell_type": "code",
      "execution_count": 6,
      "metadata": {
        "id": "Cr847KKpz7zF"
      },
      "outputs": [],
      "source": [
        "surname = \"Smith\"\n",
        "\n",
        "formatted_string = f\"My surname is {surname}\"\n"
      ]
    },
    {
      "cell_type": "markdown",
      "metadata": {
        "id": "1Nc6RqvQ0hxU"
      },
      "source": [
        "6. Маючи рядок \"My dog is crazy.\" перетворити його на список [\"my\", \"dog\", \"is\", \"crazy\"]"
      ]
    },
    {
      "cell_type": "code",
      "execution_count": 7,
      "metadata": {
        "id": "dGU4MImR063l"
      },
      "outputs": [
        {
          "data": {
            "text/plain": [
              "('My surname is Smith', ['my', 'dog', 'is', 'crazy'])"
            ]
          },
          "execution_count": 7,
          "metadata": {},
          "output_type": "execute_result"
        }
      ],
      "source": [
        "sentence = \"My dog is crazy.\"\n",
        "words_list = sentence.lower().strip(\".\").split()\n",
        "\n",
        "formatted_string, words_list"
      ]
    },
    {
      "cell_type": "markdown",
      "metadata": {
        "id": "rW_I9dt3x6cW"
      },
      "source": [
        "# II. Множини (Set)."
      ]
    },
    {
      "cell_type": "markdown",
      "metadata": {
        "id": "zNjRLHLw1Bgg"
      },
      "source": [
        "7. Створити множину без елементів. Після цого за допомогою методу додайте кілька різних елементів до множини. Чи множини є змінним типом даних?"
      ]
    },
    {
      "cell_type": "code",
      "execution_count": 11,
      "metadata": {
        "id": "CB72VZWZ1A7c"
      },
      "outputs": [
        {
          "data": {
            "text/plain": [
              "{1, 'apple', 'banana'}"
            ]
          },
          "execution_count": 11,
          "metadata": {},
          "output_type": "execute_result"
        }
      ],
      "source": [
        "empty_set = set()\n",
        "empty_set.add(\"apple\")\n",
        "empty_set.add(\"banana\")\n",
        "empty_set.add(1)\n",
        "\n",
        "empty_set"
      ]
    },
    {
      "cell_type": "markdown",
      "metadata": {
        "id": "tqxtcfgK4Wkx"
      },
      "source": [
        "Так"
      ]
    },
    {
      "cell_type": "markdown",
      "metadata": {
        "id": "gHpT0Zw_1HEF"
      },
      "source": [
        "8. Створити множину, маючи список my_list = [1, 1, 2, 67, 67, 8, 9]. Пояснити, чому \"зникли\" деякі елементи."
      ]
    },
    {
      "cell_type": "code",
      "execution_count": 9,
      "metadata": {
        "id": "U5YnFsPp1OCU"
      },
      "outputs": [
        {
          "data": {
            "text/plain": [
              "{1, 2, 8, 9, 67}"
            ]
          },
          "execution_count": 9,
          "metadata": {},
          "output_type": "execute_result"
        }
      ],
      "source": [
        "my_list = [1, 1, 2, 67, 67, 8, 9]\n",
        "set_from_list = set(my_list)\n",
        "\n",
        "set_from_list"
      ]
    },
    {
      "cell_type": "markdown",
      "metadata": {
        "id": "SRMkGizS1UwY"
      },
      "source": [
        "9. Створіть дві множини. Продемонстуйте над ними операції: обʼєднання, різниці, пересічі та симетричної різниці. Використовуйте методи, що не змінюють множини, а створюють нові."
      ]
    },
    {
      "cell_type": "code",
      "execution_count": 12,
      "metadata": {
        "id": "pj5ta1CS2LAa"
      },
      "outputs": [],
      "source": [
        "set1 = {1, 2, 3, 4, 5}\n",
        "set2 = {4, 5, 6, 7, 8}\n",
        "\n",
        "# Операції над множинами\n",
        "union_set = set1.union(set2)  # Обʼєднання\n",
        "difference_set = set1.difference(set2)  # Різниця\n",
        "intersection_set = set1.intersection(set2)  # Пересічення\n",
        "symmetric_difference_set = set1.symmetric_difference(set2)"
      ]
    },
    {
      "cell_type": "markdown",
      "metadata": {
        "id": "ECo4rGAW2e4S"
      },
      "source": [
        "10. Створіть множину з пʼяти елементів. За допомогою спеціального методу, вилучіть три елементи один за одним з множини. Чи може гарантуватися порядок елементів у множинах?"
      ]
    },
    {
      "cell_type": "code",
      "execution_count": 13,
      "metadata": {
        "id": "tCoJigA-4Ryd"
      },
      "outputs": [
        {
          "data": {
            "text/plain": [
              "({1, 2, 3, 4, 5, 6, 7, 8},\n",
              " {1, 2, 3},\n",
              " {4, 5},\n",
              " {1, 2, 3, 6, 7, 8},\n",
              " {10, 30},\n",
              " [50, 20, 40])"
            ]
          },
          "execution_count": 13,
          "metadata": {},
          "output_type": "execute_result"
        }
      ],
      "source": [
        "set3 = {10, 20, 30, 40, 50}\n",
        "removed_elements = [set3.pop(), set3.pop(), set3.pop()]\n",
        "union_set, difference_set, intersection_set, symmetric_difference_set, set3, removed_elements"
      ]
    },
    {
      "cell_type": "markdown",
      "metadata": {
        "id": "t7f5oKmP2qum"
      },
      "source": [
        "Метод pop() вилучає та повертає елемент з множини, але важливо зазначити, що множини в Python не є упорядкованими, тому порядок елементів не гарантується і не можна передбачити, який елемент буде вилучено наступним."
      ]
    },
    {
      "cell_type": "markdown",
      "metadata": {
        "id": "kWc8gkzTx7Ea"
      },
      "source": [
        "# III. Словники (Dictionary)."
      ]
    },
    {
      "cell_type": "markdown",
      "metadata": {
        "id": "FHIRdwck2uji"
      },
      "source": [
        "11. Створіть пустий словник двома способами."
      ]
    },
    {
      "cell_type": "code",
      "execution_count": 14,
      "metadata": {
        "id": "sF2WCzwJ2yDq"
      },
      "outputs": [],
      "source": [
        "empty_dict_literal = {}\n",
        "empty_dict_function = dict()"
      ]
    },
    {
      "cell_type": "markdown",
      "metadata": {
        "id": "i5FLwj-B2ybQ"
      },
      "source": [
        "12. До одного зі словників вище додайте чотири пари елементів такі, щоб їхні ключі були різних типів."
      ]
    },
    {
      "cell_type": "code",
      "execution_count": 16,
      "metadata": {
        "id": "lqunD0EZ2_Vg"
      },
      "outputs": [
        {
          "data": {
            "text/plain": [
              "({'string_key': 'value1', 42: 'value2', (1, 2): 'value3', True: 'value4'}, {})"
            ]
          },
          "execution_count": 16,
          "metadata": {},
          "output_type": "execute_result"
        }
      ],
      "source": [
        "empty_dict_literal[\"string_key\"] = \"value1\" \n",
        "empty_dict_literal[42] = \"value2\"           \n",
        "empty_dict_literal[(1, 2)] = \"value3\"       \n",
        "empty_dict_literal[True] = \"value4\"        \n",
        "\n",
        "empty_dict_literal, empty_dict_function"
      ]
    },
    {
      "cell_type": "markdown",
      "metadata": {
        "id": "XOD2Aaj13Bqx"
      },
      "source": [
        "список не може бути ключем у словнику, але може бути значенням.  Tому, що ключі у словнику повинні бути незмінними (immutable) типами даних, тоді як списки є змінними (mutable)."
      ]
    },
    {
      "cell_type": "markdown",
      "metadata": {
        "id": "9Tjhmuf73KE6"
      },
      "source": [
        "13. Використовуючи той самий словник, отримайте по ключу будь-яке значення з наявних. Тепер видаліть цю пару ключ-значення. Спробуйте знову отримати значення по цьому ж ключу. Використовуючи спеціальний метод, виправте помилку."
      ]
    },
    {
      "cell_type": "code",
      "execution_count": 17,
      "metadata": {
        "id": "cNMenuGQ3JMa"
      },
      "outputs": [
        {
          "name": "stdout",
          "output_type": "stream",
          "text": [
            "Значення за ключем 'string_key': value1\n",
            "Значення за ключем 'string_key' після видалення: Значення не знайдено\n"
          ]
        }
      ],
      "source": [
        "key_to_use = \"string_key\"\n",
        "value = empty_dict_literal.get(key_to_use)\n",
        "print(f\"Значення за ключем '{key_to_use}': {value}\")\n",
        "\n",
        "\n",
        "del empty_dict_literal[key_to_use]\n",
        "\n",
        "\n",
        "value_after_deletion = empty_dict_literal.get(key_to_use, \"Значення не знайдено\")\n",
        "print(f\"Значення за ключем '{key_to_use}' після видалення: {value_after_deletion}\")"
      ]
    },
    {
      "cell_type": "markdown",
      "metadata": {
        "id": "SLtQabwUx7Xc"
      },
      "source": [
        "# IV. Оператори порівняння та логічні оператори. Умови."
      ]
    },
    {
      "cell_type": "markdown",
      "metadata": {
        "id": "SrehzC-n3-ln"
      },
      "source": [
        "14. Створіть цілочисленну змінну зі своїм щасливим або улюбленим числом. Напишіть код, який би автоматизовував наступну задачу.\n",
        "\n",
        "Якщо число парне, помножте його на 2 та виведіть результат на екран.\n",
        "\n",
        "Але якщо число непарне, помножте його на 3 та додайте 1 і виведіть на екран.\n"
      ]
    },
    {
      "cell_type": "code",
      "execution_count": 19,
      "metadata": {
        "id": "g0cchKGl3-Gq"
      },
      "outputs": [
        {
          "data": {
            "text/plain": [
              "130"
            ]
          },
          "execution_count": 19,
          "metadata": {},
          "output_type": "execute_result"
        }
      ],
      "source": [
        "\n",
        "favorite_number = 43\n",
        "\n",
        "if favorite_number % 2 == 0:\n",
        "    result = favorite_number * 2\n",
        "else:\n",
        "    result = favorite_number * 3 + 1\n",
        "\n",
        "result\n",
        "\n"
      ]
    },
    {
      "cell_type": "markdown",
      "metadata": {
        "id": "PRXLVdU26E5Z"
      },
      "source": [
        "15. Створіть рядок зі своїм імʼям латинкою. Напишіть код, який би автоматизовував наступну задачу.\n",
        "\n",
        "Якщо в імені є літера \"а\"\n",
        " або \"i\", Виведіть на екран повідомлення \"A or I is in the name\".\n",
        "\n",
        "\n",
        "\n",
        "Якщо в імені є літери \"o\" та \"n\", Виведіть на екран повідомлення \"O and N is in the name\".\n",
        "\n",
        "Також якщо в імені немає літери \"о\", але є \"n\", Виведіть на екран повідомлення \"Only N is in the name\".\n",
        "\n",
        "В решті випадків виведіть на екран повідомлення \"There is no N in the name, but there might be O\".\n",
        "\n",
        "Зверніть увагу, що, наприклад, для імені \"Antonina\" буде виведено два повідомлення."
      ]
    },
    {
      "cell_type": "code",
      "execution_count": 22,
      "metadata": {
        "id": "bQlf4ZUh6Pdz"
      },
      "outputs": [
        {
          "name": "stdout",
          "output_type": "stream",
          "text": [
            "A or I is in the name\n",
            "O and N is in the name\n"
          ]
        }
      ],
      "source": [
        "\n",
        "name = \"Hamilton\"  \n",
        "\n",
        "\n",
        "if \"a\" in name.lower() or \"i\" in name.lower():\n",
        "    print(\"A or I is in the name\")\n",
        "\n",
        "if \"o\" in name.lower() and \"n\" in name.lower():\n",
        "    print(\"O and N is in the name\")\n",
        "\n",
        "elif \"o\" not in name.lower() and \"n\" in name.lower():\n",
        "    print(\"Only N is in the name\")\n",
        "\n",
        "else:\n",
        "    print(\"There is no N in the name, but there might be O\")\n",
        "\n"
      ]
    },
    {
      "cell_type": "markdown",
      "metadata": {
        "id": "xOZP0hkx6cCr"
      },
      "source": [
        "# Вітаю! Ви велика(ий) молодець, що впоралась(вся). Похваліть себе та побалуйте чимось приємним. Я Вами пишаюся."
      ]
    }
  ],
  "metadata": {
    "colab": {
      "provenance": []
    },
    "kernelspec": {
      "display_name": "Python 3",
      "name": "python3"
    },
    "language_info": {
      "codemirror_mode": {
        "name": "ipython",
        "version": 3
      },
      "file_extension": ".py",
      "mimetype": "text/x-python",
      "name": "python",
      "nbconvert_exporter": "python",
      "pygments_lexer": "ipython3",
      "version": "3.12.0"
    }
  },
  "nbformat": 4,
  "nbformat_minor": 0
}
